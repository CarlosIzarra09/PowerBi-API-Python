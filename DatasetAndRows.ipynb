{
 "cells": [
  {
   "cell_type": "markdown",
   "metadata": {},
   "source": [
    "# Pruba de API\n",
    "## Generamos Access Token"
   ]
  },
  {
   "cell_type": "markdown",
   "metadata": {},
   "source": [
    "### Metodo 1 Client Credentials"
   ]
  },
  {
   "cell_type": "code",
   "execution_count": 6,
   "metadata": {},
   "outputs": [
    {
     "ename": "AdalError",
     "evalue": "Get Token request returned http error: 401 and server response: {\"error\":\"invalid_client\",\"error_description\":\"AADSTS7000215: Invalid client secret provided. Ensure the secret being sent in the request is the client secret value, not the client secret ID, for a secret added to app '1b624145-2f22-4dce-8222-bd6fadad4557'.\\r\\nTrace ID: a6cece37-f341-4999-bc73-6acf25102900\\r\\nCorrelation ID: 03c2236e-0c51-46ec-880c-0f9e2f3f0ebe\\r\\nTimestamp: 2023-05-19 16:55:31Z\",\"error_codes\":[7000215],\"timestamp\":\"2023-05-19 16:55:31Z\",\"trace_id\":\"a6cece37-f341-4999-bc73-6acf25102900\",\"correlation_id\":\"03c2236e-0c51-46ec-880c-0f9e2f3f0ebe\",\"error_uri\":\"https://login.microsoftonline.com/error?code=7000215\"}",
     "output_type": "error",
     "traceback": [
      "\u001b[1;31m---------------------------------------------------------------------------\u001b[0m",
      "\u001b[1;31mAdalError\u001b[0m                                 Traceback (most recent call last)",
      "Cell \u001b[1;32mIn[6], line 26\u001b[0m\n\u001b[0;32m     23\u001b[0m context \u001b[39m=\u001b[39m AuthenticationContext(authority_url)\n\u001b[0;32m     25\u001b[0m \u001b[39m# Obtiene el token de acceso\u001b[39;00m\n\u001b[1;32m---> 26\u001b[0m token_response \u001b[39m=\u001b[39m context\u001b[39m.\u001b[39;49macquire_token_with_client_credentials(resource_url, client_id, client_secret)\n\u001b[0;32m     28\u001b[0m \u001b[39m# Obtén el token de acceso\u001b[39;00m\n\u001b[0;32m     29\u001b[0m access_token \u001b[39m=\u001b[39m token_response[\u001b[39m'\u001b[39m\u001b[39maccessToken\u001b[39m\u001b[39m'\u001b[39m]\n",
      "File \u001b[1;32mc:\\Python311\\Lib\\site-packages\\adal\\authentication_context.py:179\u001b[0m, in \u001b[0;36mAuthenticationContext.acquire_token_with_client_credentials\u001b[1;34m(self, resource, client_id, client_secret)\u001b[0m\n\u001b[0;32m    176\u001b[0m     token_request \u001b[39m=\u001b[39m TokenRequest(\u001b[39mself\u001b[39m\u001b[39m.\u001b[39m_call_context, \u001b[39mself\u001b[39m, client_id, resource)\n\u001b[0;32m    177\u001b[0m     \u001b[39mreturn\u001b[39;00m token_request\u001b[39m.\u001b[39mget_token_with_client_credentials(client_secret)\n\u001b[1;32m--> 179\u001b[0m \u001b[39mreturn\u001b[39;00m \u001b[39mself\u001b[39;49m\u001b[39m.\u001b[39;49m_acquire_token(token_func)\n",
      "File \u001b[1;32mc:\\Python311\\Lib\\site-packages\\adal\\authentication_context.py:128\u001b[0m, in \u001b[0;36mAuthenticationContext._acquire_token\u001b[1;34m(self, token_func, correlation_id)\u001b[0m\n\u001b[0;32m    125\u001b[0m \u001b[39mself\u001b[39m\u001b[39m.\u001b[39m_call_context[\u001b[39m'\u001b[39m\u001b[39mlog_context\u001b[39m\u001b[39m'\u001b[39m] \u001b[39m=\u001b[39m log\u001b[39m.\u001b[39mcreate_log_context(\n\u001b[0;32m    126\u001b[0m     correlation_id \u001b[39mor\u001b[39;00m \u001b[39mself\u001b[39m\u001b[39m.\u001b[39mcorrelation_id, \u001b[39mself\u001b[39m\u001b[39m.\u001b[39m_call_context\u001b[39m.\u001b[39mget(\u001b[39m'\u001b[39m\u001b[39menable_pii\u001b[39m\u001b[39m'\u001b[39m, \u001b[39mFalse\u001b[39;00m))\n\u001b[0;32m    127\u001b[0m \u001b[39mself\u001b[39m\u001b[39m.\u001b[39mauthority\u001b[39m.\u001b[39mvalidate(\u001b[39mself\u001b[39m\u001b[39m.\u001b[39m_call_context)\n\u001b[1;32m--> 128\u001b[0m \u001b[39mreturn\u001b[39;00m token_func(\u001b[39mself\u001b[39;49m)\n",
      "File \u001b[1;32mc:\\Python311\\Lib\\site-packages\\adal\\authentication_context.py:177\u001b[0m, in \u001b[0;36mAuthenticationContext.acquire_token_with_client_credentials.<locals>.token_func\u001b[1;34m(self)\u001b[0m\n\u001b[0;32m    175\u001b[0m \u001b[39mdef\u001b[39;00m \u001b[39mtoken_func\u001b[39m(\u001b[39mself\u001b[39m):\n\u001b[0;32m    176\u001b[0m     token_request \u001b[39m=\u001b[39m TokenRequest(\u001b[39mself\u001b[39m\u001b[39m.\u001b[39m_call_context, \u001b[39mself\u001b[39m, client_id, resource)\n\u001b[1;32m--> 177\u001b[0m     \u001b[39mreturn\u001b[39;00m token_request\u001b[39m.\u001b[39;49mget_token_with_client_credentials(client_secret)\n",
      "File \u001b[1;32mc:\\Python311\\Lib\\site-packages\\adal\\token_request.py:312\u001b[0m, in \u001b[0;36mTokenRequest.get_token_with_client_credentials\u001b[1;34m(self, client_secret)\u001b[0m\n\u001b[0;32m    309\u001b[0m oauth_parameters \u001b[39m=\u001b[39m \u001b[39mself\u001b[39m\u001b[39m.\u001b[39m_create_oauth_parameters(OAUTH2_GRANT_TYPE\u001b[39m.\u001b[39mCLIENT_CREDENTIALS)\n\u001b[0;32m    310\u001b[0m oauth_parameters[OAUTH2_PARAMETERS\u001b[39m.\u001b[39mCLIENT_SECRET] \u001b[39m=\u001b[39m client_secret\n\u001b[1;32m--> 312\u001b[0m token \u001b[39m=\u001b[39m \u001b[39mself\u001b[39;49m\u001b[39m.\u001b[39;49m_oauth_get_token(oauth_parameters)\n\u001b[0;32m    313\u001b[0m \u001b[39mself\u001b[39m\u001b[39m.\u001b[39m_cache_driver\u001b[39m.\u001b[39madd(token)\n\u001b[0;32m    314\u001b[0m \u001b[39mreturn\u001b[39;00m token\n",
      "File \u001b[1;32mc:\\Python311\\Lib\\site-packages\\adal\\token_request.py:112\u001b[0m, in \u001b[0;36mTokenRequest._oauth_get_token\u001b[1;34m(self, oauth_parameters)\u001b[0m\n\u001b[0;32m    110\u001b[0m \u001b[39mdef\u001b[39;00m \u001b[39m_oauth_get_token\u001b[39m(\u001b[39mself\u001b[39m, oauth_parameters):\n\u001b[0;32m    111\u001b[0m     client \u001b[39m=\u001b[39m \u001b[39mself\u001b[39m\u001b[39m.\u001b[39m_create_oauth2_client()\n\u001b[1;32m--> 112\u001b[0m     \u001b[39mreturn\u001b[39;00m client\u001b[39m.\u001b[39;49mget_token(oauth_parameters)\n",
      "File \u001b[1;32mc:\\Python311\\Lib\\site-packages\\adal\\oauth2_client.py:289\u001b[0m, in \u001b[0;36mOAuth2Client.get_token\u001b[1;34m(self, oauth_parameters)\u001b[0m\n\u001b[0;32m    287\u001b[0m     \u001b[39mexcept\u001b[39;00m \u001b[39mValueError\u001b[39;00m:\n\u001b[0;32m    288\u001b[0m         \u001b[39mpass\u001b[39;00m\n\u001b[1;32m--> 289\u001b[0m \u001b[39mraise\u001b[39;00m AdalError(return_error_string, error_response)\n",
      "\u001b[1;31mAdalError\u001b[0m: Get Token request returned http error: 401 and server response: {\"error\":\"invalid_client\",\"error_description\":\"AADSTS7000215: Invalid client secret provided. Ensure the secret being sent in the request is the client secret value, not the client secret ID, for a secret added to app '1b624145-2f22-4dce-8222-bd6fadad4557'.\\r\\nTrace ID: a6cece37-f341-4999-bc73-6acf25102900\\r\\nCorrelation ID: 03c2236e-0c51-46ec-880c-0f9e2f3f0ebe\\r\\nTimestamp: 2023-05-19 16:55:31Z\",\"error_codes\":[7000215],\"timestamp\":\"2023-05-19 16:55:31Z\",\"trace_id\":\"a6cece37-f341-4999-bc73-6acf25102900\",\"correlation_id\":\"03c2236e-0c51-46ec-880c-0f9e2f3f0ebe\",\"error_uri\":\"https://login.microsoftonline.com/error?code=7000215\"}"
     ]
    }
   ],
   "source": [
    "import mysql.connector \n",
    "import requests\n",
    "from adal import AuthenticationContext\n",
    "\n",
    "\n",
    "# Configura tus credenciales de Power BI \n",
    "# RegistryApp \n",
    "\n",
    "tenant_id = '179bdda8-d964-43ff-ad3b-674186a2fa28' \n",
    "client_id = '1b624145-2f22-4dce-8222-bd6fadad4557' \n",
    "client_secret = 'dasdasd' \n",
    "\n",
    "workspace_id = '846f5fdf-3bb1-4079-937a-b5ea519b4701' \n",
    "dataset_id = '1090d79e-a8e1-465f-93b8-de1761d55b4d'\n",
    "\n",
    "\n",
    "# Configura los detalles de la solicitud de token\n",
    "authority_url = f'https://login.microsoftonline.com/{tenant_id}'\n",
    "resource_url = 'https://analysis.windows.net/powerbi/api/.default' \n",
    "\n",
    " \n",
    "# Crea el contexto de autenticación\n",
    "context = AuthenticationContext(authority_url)\n",
    "\n",
    "# Obtiene el token de acceso\n",
    "token_response = context.acquire_token_with_client_credentials(resource_url, client_id, client_secret)\n",
    "\n",
    "# Obtén el token de acceso\n",
    "access_token = token_response['accessToken']\n",
    "\n",
    "print(access_token)\n"
   ]
  },
  {
   "cell_type": "markdown",
   "metadata": {},
   "source": [
    "### Metodo 2"
   ]
  },
  {
   "cell_type": "code",
   "execution_count": 21,
   "metadata": {},
   "outputs": [
    {
     "name": "stdout",
     "output_type": "stream",
     "text": [
      "Accede al siguiente enlace, inicia sesion y revisa el url devuelto\n",
      "https://login.microsoftonline.com/common/oauth2/v2.0/authorize?client_id=1b624145-2f22-4dce-8222-bd6fadad4557&response_type=code&redirect_uri=https://app.powerbi.com/embedsetup/SignInRedirect&response_mode=query&scope=https://analysis.windows.net/powerbi/api/.default&state=12345\n",
      "Ingresa el valor 'code': 0.AXYAqN2bF2TZ_0OtO2dBhqL6KEVBYhsiL85NgiK9b62tRVd2AJQ.AgABAAIAAAD--DLA3VO7QrddgJg7WevrAgDs_wUA9P_p-nKjCO-9Gt8Daj-lLr5Kz4skdmAB6xyHbNzr2jeBEvLDyhkUPxA-xh2daCygW0hcG0kOpWkDIv5MRl6xJJAIMUmu6p3UnrHlc3g2yfW25IWmnaJKff9WW6B2LLazJ9xBXLklrvgwDcPMqvHObxzuPU9hHBIh8gtxbb6WojvREWNtsGIt2ESblEu8w6A5jpMiX1F8c6FI8_kR95LyPtlzeS6OxTeFSAIHq3qqk_R2Jzkd-2vCWmVcsfo-bvQWpo1gaSSpXqPlOaAbbUD3jxapZJL_w_fKChW9b6N4-Bi-uohY-myVk4OS_c5hZ1BtS20I6LbOVUpUxXvH33_xPyCdD_fgnZYkLkuWyy0SVVrxYCn3Xm8UE1H1XkC3DKwhcWOoyVNsd8yRHbtTXO6kA4HkccqXAgfs2GVlOxlqAOyN5lCBqnDewYRLTYow2_Cn2EkInT1ALwi-gLF-570wnY6I-LZD07P0LaSkkE5w2zxmSY7W0DfPjTJ161L0IaGsxCaDEiv7w4uadYtD6lRafAv6FhF9N87yr6sZgLw8DWSbJNbv_IIuPz0EbKbi6AhIfIofhdvkhS6g7RL5HH8cWZSbxCxFZlNM7OpuYtvSm2WkBtElL7CUZNZQAc25urhJxrfUKhj1G1kyTmpc6mROUliJ8D5spItiyT5Nevgkc215eaye_4a_woc\n",
      "\n",
      "\n",
      "--------------------------------------------------\n",
      "\n",
      "\n",
      "Access Token: eyJ0eXAiOiJKV1QiLCJhbGciOiJSUzI1NiIsIng1dCI6Ii1LSTNROW5OUjdiUm9meG1lWm9YcWJIWkdldyIsImtpZCI6Ii1LSTNROW5OUjdiUm9meG1lWm9YcWJIWkdldyJ9.eyJhdWQiOiJodHRwczovL2FuYWx5c2lzLndpbmRvd3MubmV0L3Bvd2VyYmkvYXBpIiwiaXNzIjoiaHR0cHM6Ly9zdHMud2luZG93cy5uZXQvMTc5YmRkYTgtZDk2NC00M2ZmLWFkM2ItNjc0MTg2YTJmYTI4LyIsImlhdCI6MTY4NDUyNTIyOCwibmJmIjoxNjg0NTI1MjI4LCJleHAiOjE2ODQ1MzA2NjAsImFjY3QiOjAsImFjciI6IjEiLCJhaW8iOiJBVFFBeS84VEFBQUFKOStqOU1UL1MyQWREVVA0dm1iaUpRV3FndmRRQ0JRaGNDRFpLZ1BHbmltcjNmWGRwamV3Q0ZPdDRSeEtLU0t2IiwiYW1yIjpbInB3ZCJdLCJhcHBpZCI6IjFiNjI0MTQ1LTJmMjItNGRjZS04MjIyLWJkNmZhZGFkNDU1NyIsImFwcGlkYWNyIjoiMCIsImZhbWlseV9uYW1lIjoiSVpBUlJBIFRJQ0xMQSIsImdpdmVuX25hbWUiOiJDQVJMT1MgRURVQVJETyIsImlwYWRkciI6IjE4MS4xNzYuMjExLjIxMSIsIm5hbWUiOiJDQVJMT1MgRURVQVJETyBJWkFSUkEgVElDTExBIiwib2lkIjoiYjEzY2IyOTEtYjFiYi00ZWQ3LTg5MDMtNGRkMjY1MzAwNmJiIiwib25wcmVtX3NpZCI6IlMtMS01LTIxLTEyODA0ODIyMDItNDA1Njg3ODM2MS01NTcwMDE4NjQtMTM0Mzg1IiwicHVpZCI6IjEwMDMyMDAyNDI0MTA5MzAiLCJyaCI6IjAuQVhZQXFOMmJGMlRaXzBPdE8yZEJocUw2S0FrQUFBQUFBQUFBd0FBQUFBQUFBQUIyQUpRLiIsInNjcCI6IkFwcC5SZWFkLkFsbCBDYXBhY2l0eS5SZWFkLkFsbCBDYXBhY2l0eS5SZWFkV3JpdGUuQWxsIENvbnRlbnQuQ3JlYXRlIERhc2hib2FyZC5SZWFkLkFsbCBEYXNoYm9hcmQuUmVhZFdyaXRlLkFsbCBEYXRhZmxvdy5SZWFkLkFsbCBEYXRhZmxvdy5SZWFkV3JpdGUuQWxsIERhdGFzZXQuUmVhZC5BbGwgRGF0YXNldC5SZWFkV3JpdGUuQWxsIEdhdGV3YXkuUmVhZC5BbGwgR2F0ZXdheS5SZWFkV3JpdGUuQWxsIFJlcG9ydC5SZWFkLkFsbCBSZXBvcnQuUmVhZFdyaXRlLkFsbCBTdG9yYWdlQWNjb3VudC5SZWFkLkFsbCBTdG9yYWdlQWNjb3VudC5SZWFkV3JpdGUuQWxsIFdvcmtzcGFjZS5SZWFkLkFsbCBXb3Jrc3BhY2UuUmVhZFdyaXRlLkFsbCIsInNpZ25pbl9zdGF0ZSI6WyJrbXNpIl0sInN1YiI6IkNrZlNxSGNIRWZxNzJEMTBiZDRxR0pzUXdWOWFHREl3TW93RjAwSDlTUkEiLCJ0aWQiOiIxNzliZGRhOC1kOTY0LTQzZmYtYWQzYi02NzQxODZhMmZhMjgiLCJ1bmlxdWVfbmFtZSI6IkNBSVpBUlJBQE1JTkVEVS5HT0IuUEUiLCJ1cG4iOiJDQUlaQVJSQUBNSU5FRFUuR09CLlBFIiwidXRpIjoiNDJ4Um5EQ1hNMC1RV0w1cGRRbDZBQSIsInZlciI6IjEuMCIsIndpZHMiOlsiYjc5ZmJmNGQtM2VmOS00Njg5LTgxNDMtNzZiMTk0ZTg1NTA5Il19.l3xYUqSPguEThR_rwDFXKIaO_jggomQXuoU01bXFRWC1bt4Hk1WHf_sWSyBa8zOuQ7ySo8DD8bKVI4cZNoBfdinxf1yZG4LcKYpf2wWylzhUuvWkFmVn7ac46emz6ycbvXJCmuRMQgP9XNNnylDl271b6ljzZnhmsCjHUDruYFetIG4urNz7mLv8h63T0yirQ7x89899RfV0vzaeN2HXv8CHQd434imMGNhJTTwUMCjW2u07UhRl8AW5IBtDIzviD0cUkSTXHMRHXy9Ns2Ux4Ht1WRHUck8h3hU1qIiK0mWsoFtci3eElQ6rbkKm_6h-C_cpxaqREnm0zWDALJrTtA\n"
     ]
    }
   ],
   "source": [
    "client_id = '1b624145-2f22-4dce-8222-bd6fadad4557' \n",
    "scope = 'https://analysis.windows.net/powerbi/api/.default'\n",
    "redirect_uri = 'https://app.powerbi.com/embedsetup/SignInRedirect'\n",
    "\n",
    "\n",
    "request_url = f'https://login.microsoftonline.com/common/oauth2/v2.0/authorize?client_id={client_id}&response_type=code&redirect_uri={redirect_uri}&response_mode=query&scope={scope}&state=12345'\n",
    "\n",
    "print('Accede al siguiente enlace, inicia sesion y revisa el url devuelto')\n",
    "print(request_url)\n",
    "code = input(\"Ingresa el valor 'code': \")\n",
    "\n",
    "\n",
    "print('\\n')\n",
    "print('--------------------------------------------------')\n",
    "print('\\n')\n",
    "\n",
    "\n",
    "\n",
    "# URL de la solicitud\n",
    "url = \"https://login.microsoftonline.com/common/oauth2/v2.0/token\"\n",
    "\n",
    "# Parámetros del cuerpo de la solicitud\n",
    "payload = {\n",
    "    \"client_id\": client_id,\n",
    "    \"scope\": scope,\n",
    "    \"redirect_uri\": redirect_uri,\n",
    "    \"grant_type\": \"authorization_code\",\n",
    "    \"code\": code\n",
    "}\n",
    "\n",
    "\n",
    "# Realizar la solicitud POST\n",
    "response = requests.post(url, data=payload)\n",
    "\n",
    "# Obtener la respuesta\n",
    "response_data = response.json()\n",
    "\n",
    "# Obtener el valor de \"access_token\"\n",
    "access_token = response_data[\"access_token\"]\n",
    "\n",
    "# Imprimir el access_token\n",
    "print(\"Access Token:\", access_token)"
   ]
  },
  {
   "cell_type": "markdown",
   "metadata": {},
   "source": [
    "## Buscamos los datasets"
   ]
  },
  {
   "cell_type": "code",
   "execution_count": 22,
   "metadata": {},
   "outputs": [
    {
     "name": "stdout",
     "output_type": "stream",
     "text": [
      "{'@odata.context': 'http://wabi-south-central-us-redirect.analysis.windows.net/v1.0/myorg/$metadata#datasets', 'value': [{'id': 'd083ad35-46c2-45f8-b7e9-dda8e1ab1ff8', 'name': 'primero', 'webUrl': 'https://app.powerbi.com/groups/96ad0e14-1884-4f03-9346-ccd8f17799d1/datasets/d083ad35-46c2-45f8-b7e9-dda8e1ab1ff8', 'addRowsAPIEnabled': False, 'configuredBy': 'CAIZARRA@MINEDU.GOB.PE', 'isRefreshable': True, 'isEffectiveIdentityRequired': False, 'isEffectiveIdentityRolesRequired': False, 'isOnPremGatewayRequired': True, 'targetStorageMode': 'Abf', 'createdDate': '2023-05-05T16:05:54.04Z', 'createReportEmbedURL': 'https://app.powerbi.com/reportEmbed?config=eyJjbHVzdGVyVXJsIjoiaHR0cHM6Ly9XQUJJLVNPVVRILUNFTlRSQUwtVVMtcmVkaXJlY3QuYW5hbHlzaXMud2luZG93cy5uZXQiLCJlbWJlZEZlYXR1cmVzIjp7Im1vZGVybkVtYmVkIjp0cnVlLCJ1c2FnZU1ldHJpY3NWTmV4dCI6dHJ1ZX19', 'qnaEmbedURL': 'https://app.powerbi.com/qnaEmbed?config=eyJjbHVzdGVyVXJsIjoiaHR0cHM6Ly9XQUJJLVNPVVRILUNFTlRSQUwtVVMtcmVkaXJlY3QuYW5hbHlzaXMud2luZG93cy5uZXQiLCJlbWJlZEZlYXR1cmVzIjp7Im1vZGVybkVtYmVkIjp0cnVlLCJ1c2FnZU1ldHJpY3NWTmV4dCI6dHJ1ZX19', 'upstreamDatasets': [], 'users': [], 'queryScaleOutSettings': {'autoSyncReadOnlyReplicas': True, 'maxReadOnlyReplicas': 0}}]}\n"
     ]
    }
   ],
   "source": [
    "# Establecer la URL de la solicitud GET\n",
    "url = \"https://api.powerbi.com/v1.0/myorg/datasets\"\n",
    "\n",
    "# Establecer las cabeceras de la solicitud GET\n",
    "headers = {\n",
    "    \"Authorization\": f\"Bearer {access_token}\"\n",
    "}\n",
    "\n",
    "# Realizar la solicitud GET\n",
    "response = requests.get(url, headers=headers)\n",
    "#print(response)\n",
    "\n",
    "# Imprimir la respuesta\n",
    "print(response.json())\n",
    "#print(json.dumps(response, indent=2))"
   ]
  },
  {
   "cell_type": "markdown",
   "metadata": {},
   "source": [
    "## Enviamos datos a nuestro tablero de PowerBi"
   ]
  },
  {
   "cell_type": "code",
   "execution_count": 33,
   "metadata": {},
   "outputs": [
    {
     "name": "stdout",
     "output_type": "stream",
     "text": [
      "{'@odata.context': 'http://wabi-south-central-us-redirect.analysis.windows.net/v1.0/myorg/groups/846f5fdf-3bb1-4079-937a-b5ea519b4701/$metadata#datasets/$entity', 'id': '61018790-674c-4dab-bee2-74751fd0489c', 'name': 'Tickets Reports', 'defaultRetentionPolicy': 'None', 'upstreamDatasets': [], 'users': []}\n"
     ]
    }
   ],
   "source": [
    "import csv\n",
    "import json\n",
    "import requests\n",
    "\n",
    "# Define la identificación del area de trabajo\n",
    "workspace_id = '846f5fdf-3bb1-4079-937a-b5ea519b4701' \n",
    "\n",
    "# Define la URL base del API REST de Power BI\n",
    "url_base = f\"https://api.powerbi.com/v1.0/myorg/groups/{workspace_id}/\"\n",
    "\n",
    "\n",
    "# Define la URL para crear un nuevo dataset\n",
    "dataset_url = url_base + \"datasets\"\n",
    "\n",
    "# Define los datos del dataset que deseas crear\n",
    "dataset_data = {\n",
    "    \"name\": \"Tickets Reports\",\n",
    "    \"defaultMode\": \"Push\",\n",
    "    \"tables\": [\n",
    "        {\n",
    "            \"name\": \"TicketEvolution\",\n",
    "            \"columns\": [\n",
    "                {\"name\": \"year\", \"dataType\": \"Int64\"},\n",
    "                {\"name\": \"nb\", \"dataType\": \"Int64\"},\n",
    "                {\"name\": \"month\", \"dataType\": \"Int64\"}\n",
    "            ]\n",
    "        }\n",
    "    ]\n",
    "}\n",
    "\n",
    "# Convierte los datos del dataset a formato JSON\n",
    "json_dataset_data = json.dumps(dataset_data)\n",
    "\n",
    "# Define los headers de la solicitud HTTP para crear el dataset\n",
    "dataset_headers = {\n",
    "    \"Content-Type\": \"application/json\",\n",
    "    \"Authorization\": \"Bearer \" + access_token\n",
    "}\n",
    "\n",
    "# Envía la solicitud POST para crear el dataset\n",
    "dataset_response = requests.post(dataset_url, data=json_dataset_data, headers=dataset_headers)\n",
    "\n",
    "dataset_id = dataset_response.json()['id']\n",
    "\n",
    "print(dataset_response.json())\n"
   ]
  },
  {
   "cell_type": "code",
   "execution_count": 34,
   "metadata": {},
   "outputs": [
    {
     "ename": "JSONDecodeError",
     "evalue": "Expecting value: line 1 column 1 (char 0)",
     "output_type": "error",
     "traceback": [
      "\u001b[1;31m---------------------------------------------------------------------------\u001b[0m",
      "\u001b[1;31mJSONDecodeError\u001b[0m                           Traceback (most recent call last)",
      "File \u001b[1;32mC:\\Python311\\Lib\\site-packages\\requests\\models.py:971\u001b[0m, in \u001b[0;36mResponse.json\u001b[1;34m(self, **kwargs)\u001b[0m\n\u001b[0;32m    970\u001b[0m \u001b[38;5;28;01mtry\u001b[39;00m:\n\u001b[1;32m--> 971\u001b[0m     \u001b[38;5;28;01mreturn\u001b[39;00m \u001b[43mcomplexjson\u001b[49m\u001b[38;5;241;43m.\u001b[39;49m\u001b[43mloads\u001b[49m\u001b[43m(\u001b[49m\u001b[38;5;28;43mself\u001b[39;49m\u001b[38;5;241;43m.\u001b[39;49m\u001b[43mtext\u001b[49m\u001b[43m,\u001b[49m\u001b[43m \u001b[49m\u001b[38;5;241;43m*\u001b[39;49m\u001b[38;5;241;43m*\u001b[39;49m\u001b[43mkwargs\u001b[49m\u001b[43m)\u001b[49m\n\u001b[0;32m    972\u001b[0m \u001b[38;5;28;01mexcept\u001b[39;00m JSONDecodeError \u001b[38;5;28;01mas\u001b[39;00m e:\n\u001b[0;32m    973\u001b[0m     \u001b[38;5;66;03m# Catch JSON-related errors and raise as requests.JSONDecodeError\u001b[39;00m\n\u001b[0;32m    974\u001b[0m     \u001b[38;5;66;03m# This aliases json.JSONDecodeError and simplejson.JSONDecodeError\u001b[39;00m\n",
      "File \u001b[1;32mC:\\Python311\\Lib\\json\\__init__.py:346\u001b[0m, in \u001b[0;36mloads\u001b[1;34m(s, cls, object_hook, parse_float, parse_int, parse_constant, object_pairs_hook, **kw)\u001b[0m\n\u001b[0;32m    343\u001b[0m \u001b[38;5;28;01mif\u001b[39;00m (\u001b[38;5;28mcls\u001b[39m \u001b[38;5;129;01mis\u001b[39;00m \u001b[38;5;28;01mNone\u001b[39;00m \u001b[38;5;129;01mand\u001b[39;00m object_hook \u001b[38;5;129;01mis\u001b[39;00m \u001b[38;5;28;01mNone\u001b[39;00m \u001b[38;5;129;01mand\u001b[39;00m\n\u001b[0;32m    344\u001b[0m         parse_int \u001b[38;5;129;01mis\u001b[39;00m \u001b[38;5;28;01mNone\u001b[39;00m \u001b[38;5;129;01mand\u001b[39;00m parse_float \u001b[38;5;129;01mis\u001b[39;00m \u001b[38;5;28;01mNone\u001b[39;00m \u001b[38;5;129;01mand\u001b[39;00m\n\u001b[0;32m    345\u001b[0m         parse_constant \u001b[38;5;129;01mis\u001b[39;00m \u001b[38;5;28;01mNone\u001b[39;00m \u001b[38;5;129;01mand\u001b[39;00m object_pairs_hook \u001b[38;5;129;01mis\u001b[39;00m \u001b[38;5;28;01mNone\u001b[39;00m \u001b[38;5;129;01mand\u001b[39;00m \u001b[38;5;129;01mnot\u001b[39;00m kw):\n\u001b[1;32m--> 346\u001b[0m     \u001b[38;5;28;01mreturn\u001b[39;00m \u001b[43m_default_decoder\u001b[49m\u001b[38;5;241;43m.\u001b[39;49m\u001b[43mdecode\u001b[49m\u001b[43m(\u001b[49m\u001b[43ms\u001b[49m\u001b[43m)\u001b[49m\n\u001b[0;32m    347\u001b[0m \u001b[38;5;28;01mif\u001b[39;00m \u001b[38;5;28mcls\u001b[39m \u001b[38;5;129;01mis\u001b[39;00m \u001b[38;5;28;01mNone\u001b[39;00m:\n",
      "File \u001b[1;32mC:\\Python311\\Lib\\json\\decoder.py:337\u001b[0m, in \u001b[0;36mJSONDecoder.decode\u001b[1;34m(self, s, _w)\u001b[0m\n\u001b[0;32m    333\u001b[0m \u001b[38;5;250m\u001b[39m\u001b[38;5;124;03m\"\"\"Return the Python representation of ``s`` (a ``str`` instance\u001b[39;00m\n\u001b[0;32m    334\u001b[0m \u001b[38;5;124;03mcontaining a JSON document).\u001b[39;00m\n\u001b[0;32m    335\u001b[0m \n\u001b[0;32m    336\u001b[0m \u001b[38;5;124;03m\"\"\"\u001b[39;00m\n\u001b[1;32m--> 337\u001b[0m obj, end \u001b[38;5;241m=\u001b[39m \u001b[38;5;28;43mself\u001b[39;49m\u001b[38;5;241;43m.\u001b[39;49m\u001b[43mraw_decode\u001b[49m\u001b[43m(\u001b[49m\u001b[43ms\u001b[49m\u001b[43m,\u001b[49m\u001b[43m \u001b[49m\u001b[43midx\u001b[49m\u001b[38;5;241;43m=\u001b[39;49m\u001b[43m_w\u001b[49m\u001b[43m(\u001b[49m\u001b[43ms\u001b[49m\u001b[43m,\u001b[49m\u001b[43m \u001b[49m\u001b[38;5;241;43m0\u001b[39;49m\u001b[43m)\u001b[49m\u001b[38;5;241;43m.\u001b[39;49m\u001b[43mend\u001b[49m\u001b[43m(\u001b[49m\u001b[43m)\u001b[49m\u001b[43m)\u001b[49m\n\u001b[0;32m    338\u001b[0m end \u001b[38;5;241m=\u001b[39m _w(s, end)\u001b[38;5;241m.\u001b[39mend()\n",
      "File \u001b[1;32mC:\\Python311\\Lib\\json\\decoder.py:355\u001b[0m, in \u001b[0;36mJSONDecoder.raw_decode\u001b[1;34m(self, s, idx)\u001b[0m\n\u001b[0;32m    354\u001b[0m \u001b[38;5;28;01mexcept\u001b[39;00m \u001b[38;5;167;01mStopIteration\u001b[39;00m \u001b[38;5;28;01mas\u001b[39;00m err:\n\u001b[1;32m--> 355\u001b[0m     \u001b[38;5;28;01mraise\u001b[39;00m JSONDecodeError(\u001b[38;5;124m\"\u001b[39m\u001b[38;5;124mExpecting value\u001b[39m\u001b[38;5;124m\"\u001b[39m, s, err\u001b[38;5;241m.\u001b[39mvalue) \u001b[38;5;28;01mfrom\u001b[39;00m \u001b[38;5;28;01mNone\u001b[39;00m\n\u001b[0;32m    356\u001b[0m \u001b[38;5;28;01mreturn\u001b[39;00m obj, end\n",
      "\u001b[1;31mJSONDecodeError\u001b[0m: Expecting value: line 1 column 1 (char 0)",
      "\nDuring handling of the above exception, another exception occurred:\n",
      "\u001b[1;31mJSONDecodeError\u001b[0m                           Traceback (most recent call last)",
      "Cell \u001b[1;32mIn[34], line 23\u001b[0m\n\u001b[0;32m     20\u001b[0m \u001b[38;5;66;03m# Envía la solicitud POST para actualizar los datos\u001b[39;00m\n\u001b[0;32m     21\u001b[0m response \u001b[38;5;241m=\u001b[39m requests\u001b[38;5;241m.\u001b[39mpost(table_url, data\u001b[38;5;241m=\u001b[39mjson_data, headers\u001b[38;5;241m=\u001b[39mheaders)\n\u001b[1;32m---> 23\u001b[0m \u001b[38;5;28mprint\u001b[39m(\u001b[43mresponse\u001b[49m\u001b[38;5;241;43m.\u001b[39;49m\u001b[43mjson\u001b[49m\u001b[43m(\u001b[49m\u001b[43m)\u001b[49m)\n",
      "File \u001b[1;32mC:\\Python311\\Lib\\site-packages\\requests\\models.py:975\u001b[0m, in \u001b[0;36mResponse.json\u001b[1;34m(self, **kwargs)\u001b[0m\n\u001b[0;32m    971\u001b[0m     \u001b[38;5;28;01mreturn\u001b[39;00m complexjson\u001b[38;5;241m.\u001b[39mloads(\u001b[38;5;28mself\u001b[39m\u001b[38;5;241m.\u001b[39mtext, \u001b[38;5;241m*\u001b[39m\u001b[38;5;241m*\u001b[39mkwargs)\n\u001b[0;32m    972\u001b[0m \u001b[38;5;28;01mexcept\u001b[39;00m JSONDecodeError \u001b[38;5;28;01mas\u001b[39;00m e:\n\u001b[0;32m    973\u001b[0m     \u001b[38;5;66;03m# Catch JSON-related errors and raise as requests.JSONDecodeError\u001b[39;00m\n\u001b[0;32m    974\u001b[0m     \u001b[38;5;66;03m# This aliases json.JSONDecodeError and simplejson.JSONDecodeError\u001b[39;00m\n\u001b[1;32m--> 975\u001b[0m     \u001b[38;5;28;01mraise\u001b[39;00m RequestsJSONDecodeError(e\u001b[38;5;241m.\u001b[39mmsg, e\u001b[38;5;241m.\u001b[39mdoc, e\u001b[38;5;241m.\u001b[39mpos)\n",
      "\u001b[1;31mJSONDecodeError\u001b[0m: Expecting value: line 1 column 1 (char 0)"
     ]
    }
   ],
   "source": [
    "\n",
    "# Define la URL de la tabla que deseas actualizar\n",
    "table_url = url_base + \"datasets/\" + dataset_id + \"/tables/TicketEvolution/rows\"\n",
    "\n",
    "# Lee los datos del archivo CSV y conviértelos en formato JSON\n",
    "data_to_update = []\n",
    "with open('glpi_tickets.csv', 'r') as file:\n",
    "    csv_reader = csv.DictReader(file, delimiter=';')\n",
    "    for row in csv_reader:\n",
    "        data_to_update.append(row)\n",
    "\n",
    "# Convierte los datos a actualizar en formato JSON\n",
    "json_data = json.dumps(data_to_update)\n",
    "\n",
    "# Define los headers de la solicitud HTTP para actualizar los datos\n",
    "headers = {\n",
    "    \"Content-Type\": \"application/json\",\n",
    "    \"Authorization\": \"Bearer \" + access_token\n",
    "}\n",
    "\n",
    "# Envía la solicitud POST para actualizar los datos\n",
    "response = requests.post(table_url, data=json_data, headers=headers)\n",
    "\n",
    "print(response.json())\n"
   ]
  },
  {
   "cell_type": "code",
   "execution_count": 20,
   "metadata": {},
   "outputs": [
    {
     "name": "stdout",
     "output_type": "stream",
     "text": [
      "b'{\"error\":{\"code\":\"ItemNotFound\",\"message\":\"Dataset 1090d79e-a8e1-465f-93b8-de1761d55b4d is not Push API dataset.\"}}'\n",
      "Se produjo un error al intentar actualizar los datos de la tabla.\n"
     ]
    }
   ],
   "source": [
    "import csv\n",
    "import json\n",
    "\n",
    "# Define la identificación del area de trabajo\n",
    "workspace_id = '846f5fdf-3bb1-4079-937a-b5ea519b4701' \n",
    "\n",
    "# Define la URL base del API REST de Power BI\n",
    "url_base = f\"https://api.powerbi.com/v1.0/myorg/groups/{workspace_id}/\"\n",
    "\n",
    "# Define la identificación del conjunto de datos de la tabla que deseas actualizar\n",
    "dataset_id = '1090d79e-a8e1-465f-93b8-de1761d55b4d'\n",
    "\n",
    "\n",
    "\n",
    "#access_token = \"eyJ0eXAiOiJKV1QiLCJhbGciOiJSUzI1NiIsIng1dCI6Ii1LSTNROW5OUjdiUm9meG1lWm9YcWJIWkdldyIsImtpZCI6Ii1LSTNROW5OUjdiUm9meG1lWm9YcWJIWkdldyJ9.eyJhdWQiOiJodHRwczovL2FuYWx5c2lzLndpbmRvd3MubmV0L3Bvd2VyYmkvYXBpIiwiaXNzIjoiaHR0cHM6Ly9zdHMud2luZG93cy5uZXQvZmM3NTgwZWYtNzdjZi00MjYwLWFkMjgtM2E5MmYxZWE5OWNkLyIsImlhdCI6MTY4MzU4MjQwNSwibmJmIjoxNjgzNTgyNDA1LCJleHAiOjE2ODM1ODgwOTQsImFjY3QiOjAsImFjciI6IjEiLCJhaW8iOiJBVlFBcS84VEFBQUFDT2NsdUo5RXVTOW5FTFhmM3l2bnRYWHh0K3VFaFhqU2NMRk5NbmFiUDhDRlpoY29PRnhiRFBjaEY4OWkxdVBsb1kyZWlYQmR6TGJZL240YUlsWHM4Y0F4YlVHYUJlWHJhWitvbjNFbUFQND0iLCJhbXIiOlsicHdkIiwibWZhIl0sImFwcGlkIjoiMThmYmNhMTYtMjIyNC00NWY2LTg1YjAtZjdiZjJiMzliM2YzIiwiYXBwaWRhY3IiOiIwIiwiZmFtaWx5X25hbWUiOiJDSEFMTENPIE1BTUFOSSIsImdpdmVuX25hbWUiOiJMVUlTIiwiaXBhZGRyIjoiMTgxLjE3Ni4yMTEuMjExIiwibmFtZSI6IkxVSVMgQ0hBTExDTyBNQU1BTkkiLCJvaWQiOiI1NDc2YWY2ZS03NWVkLTQyOWItYjhjMi0yZDZjOTBmZGRlZDgiLCJwdWlkIjoiMTAwMzIwMDI1MTQwNDk2MCIsInJoIjoiMC5BVklBNzRCMV9NOTNZRUt0S0RxUzhlcVp6UWtBQUFBQUFBQUF3QUFBQUFBQUFBQzZBSGsuIiwic2NwIjoiQXBwLlJlYWQuQWxsIENhcGFjaXR5LlJlYWQuQWxsIENhcGFjaXR5LlJlYWRXcml0ZS5BbGwgQ29udGVudC5DcmVhdGUgRGFzaGJvYXJkLlJlYWQuQWxsIERhc2hib2FyZC5SZWFkV3JpdGUuQWxsIERhdGFmbG93LlJlYWQuQWxsIERhdGFmbG93LlJlYWRXcml0ZS5BbGwgRGF0YXNldC5SZWFkLkFsbCBEYXRhc2V0LlJlYWRXcml0ZS5BbGwgR2F0ZXdheS5SZWFkLkFsbCBHYXRld2F5LlJlYWRXcml0ZS5BbGwgUGlwZWxpbmUuRGVwbG95IFBpcGVsaW5lLlJlYWQuQWxsIFBpcGVsaW5lLlJlYWRXcml0ZS5BbGwgUmVwb3J0LlJlYWQuQWxsIFJlcG9ydC5SZWFkV3JpdGUuQWxsIFN0b3JhZ2VBY2NvdW50LlJlYWQuQWxsIFN0b3JhZ2VBY2NvdW50LlJlYWRXcml0ZS5BbGwgVGVuYW50LlJlYWQuQWxsIFRlbmFudC5SZWFkV3JpdGUuQWxsIFVzZXJTdGF0ZS5SZWFkV3JpdGUuQWxsIFdvcmtzcGFjZS5SZWFkLkFsbCBXb3Jrc3BhY2UuUmVhZFdyaXRlLkFsbCIsInN1YiI6IkZDekliNlE1Tk1ONG5La2FLeWRpTVlzTk5oZVZQTlVQWnkzLUs2SjBIQlUiLCJ0aWQiOiJmYzc1ODBlZi03N2NmLTQyNjAtYWQyOC0zYTkyZjFlYTk5Y2QiLCJ1bmlxdWVfbmFtZSI6Imx1aXMuY2hhbGxjb0BwYXJyb3RzYy5jb20iLCJ1cG4iOiJsdWlzLmNoYWxsY29AcGFycm90c2MuY29tIiwidXRpIjoiWTRnZmhjcE4tMFMzdkE5dS1nVUdBQSIsInZlciI6IjEuMCIsIndpZHMiOlsiNjJlOTAzOTQtNjlmNS00MjM3LTkxOTAtMDEyMTc3MTQ1ZTEwIiwiYjc5ZmJmNGQtM2VmOS00Njg5LTgxNDMtNzZiMTk0ZTg1NTA5Il19.BirbxOrBEKvKjjNNrE8a7Zg9iSqfI5YlP0IaW31Dp3Ar7SltmnNXQpQsB2cwVs7lHfd6fUWgXeX3OoOSskfPzHWF-O9Fal545p_gQa2p1kRO5ZPM-HLEq4humG3wdqNDAqAiHZzblhU8MRTMWUT8wCps6fdaQ9NCTAX5XdhgDHs9Ngx-w458i3qMpiy8UPcxCh2fiNAZN-YUXpVUQ8fFCeKgfrDXC5PRtkfYGXm-l1RFUPr-_lDwawsrvW1bGxgTaNxaUIpAugN69zNRNOK-0JqnuahgO5lJoSsidMsJMwrnS0QkfLRcEQY7ykcUp7QbjP7JDOMeP-5Q22UpGxkPlA\"\n",
    "\n",
    "# Define la URL de la tabla que deseas actualizar\n",
    "table_url = url_base + \"datasets/\" + dataset_id + \"/tables/Ticket-Evolution/rows\"\n",
    "\n",
    "\n",
    "# Lee los datos del archivo CSV y conviértelos en formato JSON\n",
    "data_to_update = []\n",
    "with open('glpi_tickets.csv', 'r') as file:\n",
    "    csv_reader = csv.DictReader(file, delimiter=';')\n",
    "    for row in csv_reader:\n",
    "        data_to_update.append(row)\n",
    "        \n",
    "\n",
    "# Convierte los datos a actualizar en formato JSON\n",
    "json_data = json.dumps(data_to_update)\n",
    "\n",
    "#print(json_data)\n",
    "\n",
    "# Define los headers de la solicitud HTTP\n",
    "headers = {\n",
    "    \"Content-Type\": \"application/json\",\n",
    "    \"Authorization\": \"Bearer \" + access_token\n",
    "}\n",
    "\n",
    "# Envía la solicitud PATCH para actualizar los datos\n",
    "response = requests.post(table_url, data=json_data, headers=headers)\n",
    "print(response.content)\n",
    "# Verifica si la solicitud fue exitosa\n",
    "if response.status_code == 200:\n",
    "    print(\"Los datos de la tabla se actualizaron correctamente.\")\n",
    "else:\n",
    "    print(\"Se produjo un error al intentar actualizar los datos de la tabla.\")\n"
   ]
  },
  {
   "cell_type": "code",
   "execution_count": null,
   "metadata": {},
   "outputs": [],
   "source": []
  }
 ],
 "metadata": {
  "kernelspec": {
   "display_name": "Python 3 (ipykernel)",
   "language": "python",
   "name": "python3"
  },
  "language_info": {
   "codemirror_mode": {
    "name": "ipython",
    "version": 3
   },
   "file_extension": ".py",
   "mimetype": "text/x-python",
   "name": "python",
   "nbconvert_exporter": "python",
   "pygments_lexer": "ipython3",
   "version": "3.11.2"
  }
 },
 "nbformat": 4,
 "nbformat_minor": 2
}
